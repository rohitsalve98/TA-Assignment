{
  "nbformat": 4,
  "nbformat_minor": 0,
  "metadata": {
    "colab": {
      "name": "pattern_printing.ipynb",
      "provenance": [],
      "authorship_tag": "ABX9TyNwf62VBupQ+TJD3xrD9dvv",
      "include_colab_link": true
    },
    "kernelspec": {
      "name": "python3",
      "display_name": "Python 3"
    }
  },
  "cells": [
    {
      "cell_type": "markdown",
      "metadata": {
        "id": "view-in-github",
        "colab_type": "text"
      },
      "source": [
        "<a href=\"https://colab.research.google.com/github/rohitsalve98/TA-Assignment/blob/main/pattern_printing.ipynb\" target=\"_parent\"><img src=\"https://colab.research.google.com/assets/colab-badge.svg\" alt=\"Open In Colab\"/></a>"
      ]
    },
    {
      "cell_type": "code",
      "metadata": {
        "colab": {
          "base_uri": "https://localhost:8080/"
        },
        "id": "8q90HxQsa2PT",
        "outputId": "81aa7c84-69a3-43b2-feb2-1018eda7d319"
      },
      "source": [
        "def pypart1(n):\n",
        "\n",
        "     \n",
        "\n",
        "    # number of spaces\n",
        "\n",
        "    k = 2*n - 2\n",
        " \n",
        "\n",
        "    # outer loop to handle number of rows\n",
        "\n",
        "    for i in range(0, n):\n",
        "\n",
        "     \n",
        "\n",
        "        # inner loop to handle number spaces\n",
        "\n",
        "        # values changing acc. to requirement\n",
        "\n",
        "        for j in range(0, k):\n",
        "\n",
        "            print(end=\" \")\n",
        "\n",
        "     \n",
        "\n",
        "        # decrementing k after each loop\n",
        "\n",
        "        k = k - 2\n",
        "\n",
        "     \n",
        "\n",
        "        # inner loop to handle number of columns\n",
        "\n",
        "        # values changing acc. to outer loop\n",
        "\n",
        "        for j in range(0, i+1):\n",
        "\n",
        "         \n",
        "\n",
        "            # printing stars\n",
        "\n",
        "            print(\"* \", end=\"\")\n",
        "\n",
        "     \n",
        "\n",
        "        # ending line after each row\n",
        "\n",
        "        print(\"\\r\")\n",
        " \n",
        "# Driver Code\n",
        "\n",
        "n = 5\n",
        "pypart1(n)"
      ],
      "execution_count": 1,
      "outputs": [
        {
          "output_type": "stream",
          "text": [
            "        * \r\n",
            "      * * \r\n",
            "    * * * \r\n",
            "  * * * * \r\n",
            "* * * * * \r\n"
          ],
          "name": "stdout"
        }
      ]
    },
    {
      "cell_type": "code",
      "metadata": {
        "id": "UOpRJc1Ga9DJ"
      },
      "source": [
        ""
      ],
      "execution_count": null,
      "outputs": []
    }
  ]
}