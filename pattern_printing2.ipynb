{
  "nbformat": 4,
  "nbformat_minor": 0,
  "metadata": {
    "colab": {
      "name": "pattern_printing2.ipynb",
      "provenance": [],
      "authorship_tag": "ABX9TyNsuUmfLMijj6tiC4wS3I3E",
      "include_colab_link": true
    },
    "kernelspec": {
      "name": "python3",
      "display_name": "Python 3"
    }
  },
  "cells": [
    {
      "cell_type": "markdown",
      "metadata": {
        "id": "view-in-github",
        "colab_type": "text"
      },
      "source": [
        "<a href=\"https://colab.research.google.com/github/rohitsalve98/TA-Assignment/blob/main/pattern_printing2.ipynb\" target=\"_parent\"><img src=\"https://colab.research.google.com/assets/colab-badge.svg\" alt=\"Open In Colab\"/></a>"
      ]
    },
    {
      "cell_type": "code",
      "metadata": {
        "colab": {
          "base_uri": "https://localhost:8080/"
        },
        "id": "YsJ5jeYHbvLb",
        "outputId": "ef5c61b2-2af9-4564-9706-042848b8e97e"
      },
      "source": [
        "# Python code 3.x to demonstrate star pattern\n",
        " \n",
        "# Function to demonstrate printing pattern of alphabets\n",
        "\n",
        "def  pypart2(n):\n",
        "\n",
        "     \n",
        "\n",
        "    # initializing value corresponding to 'A' \n",
        "\n",
        "    # ASCII value\n",
        "\n",
        "    num = 65\n",
        " \n",
        "\n",
        "    # outer loop to handle number of rows\n",
        "\n",
        "    for i in range(0, n):\n",
        "\n",
        "     \n",
        "\n",
        "        # inner loop to handle number of columns\n",
        "\n",
        "        # values changing acc. to outer loop\n",
        "\n",
        "        for j in range(0, i+1):\n",
        "\n",
        "         \n",
        "\n",
        "            # explicitely converting to char\n",
        "\n",
        "            ch = chr(num)\n",
        "\n",
        "         \n",
        "\n",
        "            # printing char value \n",
        "\n",
        "            print(ch, end=\" \")\n",
        "\n",
        "         \n",
        "\n",
        "            # incrementing at each column\n",
        "\n",
        "            num = num +1\n",
        "\n",
        "     \n",
        "\n",
        "     \n",
        "\n",
        "        # ending line after each row\n",
        "\n",
        "        print(\"\\r\")\n",
        " \n",
        "# Driver code\n",
        "\n",
        "n = 5\n",
        "pypart2(n)"
      ],
      "execution_count": 2,
      "outputs": [
        {
          "output_type": "stream",
          "text": [
            "A \r\n",
            "B C \r\n",
            "D E F \r\n",
            "G H I J \r\n",
            "K L M N O \r\n"
          ],
          "name": "stdout"
        }
      ]
    }
  ]
}